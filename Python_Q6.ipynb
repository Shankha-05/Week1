{
  "cells": [
    {
      "cell_type": "markdown",
      "metadata": {
        "id": "view-in-github",
        "colab_type": "text"
      },
      "source": [
        "<a href=\"https://colab.research.google.com/github/Shankha-05/Week1/blob/main/Python_Q6.ipynb\" target=\"_parent\"><img src=\"https://colab.research.google.com/assets/colab-badge.svg\" alt=\"Open In Colab\"/></a>"
      ]
    },
    {
      "cell_type": "code",
      "source": [
        "arr = [5, 4, 3, 2, 1]\n",
        "\n",
        "is_asc = all(arr[i] <= arr[i+1] for i in range(len(arr)-1))\n",
        "is_desc = all(arr[i] >= arr[i+1] for i in range(len(arr)-1))\n",
        "\n",
        "if is_asc:\n",
        "    print(\"Array is sorted in ascending order.\")\n",
        "elif is_desc:\n",
        "    print(\"Array is sorted in descending order.\")\n",
        "else:\n",
        "    print(\"Array is not sorted.\")"
      ],
      "metadata": {
        "colab": {
          "base_uri": "https://localhost:8080/"
        },
        "id": "eUXb22MheE0I",
        "outputId": "30fe2f75-b8c5-488b-c222-1632ebd9b55c"
      },
      "execution_count": 13,
      "outputs": [
        {
          "output_type": "stream",
          "name": "stdout",
          "text": [
            "Array is sorted in descending order.\n"
          ]
        }
      ]
    }
  ],
  "metadata": {
    "colab": {
      "toc_visible": true,
      "provenance": [],
      "include_colab_link": true
    },
    "kernelspec": {
      "display_name": "Python 3",
      "name": "python3"
    }
  },
  "nbformat": 4,
  "nbformat_minor": 0
}